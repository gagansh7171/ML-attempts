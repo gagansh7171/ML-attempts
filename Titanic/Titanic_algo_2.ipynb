{
 "cells": [
  {
   "cell_type": "code",
   "execution_count": 241,
   "metadata": {},
   "outputs": [],
   "source": [
    "import numpy as np\n",
    "import pandas as pd\n",
    "import matplotlib.pyplot as plt\n",
    "import seaborn as sns\n",
    "\n",
    "train = pd.read_csv('train.csv')\n",
    "test = pd.read_csv('test.csv')\n",
    "\n",
    "y = train['Survived'].copy()\n",
    "data = pd.concat([train.drop(['Survived'], axis=1), test], axis=0,ignore_index=True)"
   ]
  },
  {
   "cell_type": "code",
   "execution_count": 217,
   "metadata": {},
   "outputs": [
    {
     "name": "stdout",
     "output_type": "stream",
     "text": [
      "<class 'pandas.core.frame.DataFrame'>\n",
      "RangeIndex: 1309 entries, 0 to 1308\n",
      "Data columns (total 11 columns):\n",
      "PassengerId    1309 non-null int64\n",
      "Pclass         1309 non-null int64\n",
      "Name           1309 non-null object\n",
      "Sex            1309 non-null object\n",
      "Age            1046 non-null float64\n",
      "SibSp          1309 non-null int64\n",
      "Parch          1309 non-null int64\n",
      "Ticket         1309 non-null object\n",
      "Fare           1308 non-null float64\n",
      "Cabin          295 non-null object\n",
      "Embarked       1307 non-null object\n",
      "dtypes: float64(2), int64(4), object(5)\n",
      "memory usage: 112.6+ KB\n"
     ]
    }
   ],
   "source": [
    "data.info()"
   ]
  },
  {
   "cell_type": "code",
   "execution_count": 242,
   "metadata": {},
   "outputs": [],
   "source": [
    "data['Embarked'].fillna('S', inplace=True)"
   ]
  },
  {
   "cell_type": "code",
   "execution_count": 325,
   "metadata": {},
   "outputs": [],
   "source": [
    "mod = data['Fare'].median()\n",
    "data['Fare'].fillna(mod, inplace=True)\n",
    "c = pd.qcut(data['Fare'], 4)\n",
    "data['fare_class'] = c"
   ]
  },
  {
   "cell_type": "code",
   "execution_count": 244,
   "metadata": {},
   "outputs": [],
   "source": [
    "data['name_len'] = data['Name'].apply(lambda x: len(x))"
   ]
  },
  {
   "cell_type": "code",
   "execution_count": 245,
   "metadata": {},
   "outputs": [],
   "source": [
    "data['title'] = data['Name'].apply( lambda x: str(x).split(',')[1].split()[0])\n",
    "data['title'] = data['title'].apply(lambda x: x if x in ['Mr.', 'Mrs.', 'Miss.', 'Master.'] else ('live' if x in ['the','Mlle','Lady','Ms.','Sir.','Mme.'] else 'rare'))"
   ]
  },
  {
   "cell_type": "code",
   "execution_count": 246,
   "metadata": {},
   "outputs": [],
   "source": [
    "data['Ticket'] = data['Ticket'].apply( lambda x: x.replace('.', ''))\n",
    "data['Ticket'] = data['Ticket'].apply( lambda x: x.replace('/', ''))\n",
    "data['tcat'] = data['Ticket'].apply( lambda x: 'NUM' if x.split()[0].isdigit() else x.split()[0])"
   ]
  },
  {
   "cell_type": "code",
   "execution_count": 541,
   "metadata": {},
   "outputs": [],
   "source": [
    "data['tcat'] = data['tcat'].apply( lambda x: 'X' if x in ['SCA3','A','LP','PPP','SC','AQ4','SCAH','STONOQ','SCParis','AQ3','A4', 'SP', 'SOTONO2', 'SOPP', 'SOP', 'SCOW', 'Fa', 'SCA4', 'FC', 'AS', 'CASOTON'] else x)"
   ]
  },
  {
   "cell_type": "code",
   "execution_count": 247,
   "metadata": {},
   "outputs": [
    {
     "data": {
      "text/plain": [
       "1"
      ]
     },
     "execution_count": 247,
     "metadata": {},
     "output_type": "execute_result"
    }
   ],
   "source": [
    "a = data.groupby(['Pclass','title','Sex'])\n",
    "b = a['Age'].transform('mean')\n",
    "b.isna().sum()"
   ]
  },
  {
   "cell_type": "code",
   "execution_count": 248,
   "metadata": {},
   "outputs": [
    {
     "data": {
      "text/plain": [
       "0"
      ]
     },
     "execution_count": 248,
     "metadata": {},
     "output_type": "execute_result"
    }
   ],
   "source": [
    "b.fillna(b.mean(), inplace=True)\n",
    "b.isna().sum()"
   ]
  },
  {
   "cell_type": "code",
   "execution_count": 249,
   "metadata": {},
   "outputs": [
    {
     "data": {
      "text/plain": [
       "0"
      ]
     },
     "execution_count": 249,
     "metadata": {},
     "output_type": "execute_result"
    }
   ],
   "source": [
    "b = data['Age'].fillna(b)\n",
    "data['newage'] =  b.copy()\n",
    "data['newage'].isna().sum()"
   ]
  },
  {
   "cell_type": "code",
   "execution_count": 400,
   "metadata": {},
   "outputs": [],
   "source": [
    "data['age_class'] = pd.qcut(data['newage'],5)"
   ]
  },
  {
   "cell_type": "code",
   "execution_count": 250,
   "metadata": {},
   "outputs": [],
   "source": [
    "data['Fam'] = data['SibSp'] + data['Parch']\n",
    "data['famcat'] = data['Fam'].apply(lambda x: 'none' if x==0 else ( 'small' if (x==1) or (x==2) or (x==3) else 'large'))"
   ]
  },
  {
   "cell_type": "code",
   "execution_count": 251,
   "metadata": {},
   "outputs": [],
   "source": [
    "data['cabincat'] = data['Cabin'].apply(lambda x: str(x)[0])"
   ]
  },
  {
   "cell_type": "code",
   "execution_count": 488,
   "metadata": {
    "collapsed": true
   },
   "outputs": [
    {
     "name": "stdout",
     "output_type": "stream",
     "text": [
      "<class 'pandas.core.frame.DataFrame'>\n",
      "RangeIndex: 1309 entries, 0 to 1308\n",
      "Data columns (total 20 columns):\n",
      "PassengerId    1309 non-null int64\n",
      "Pclass         1309 non-null object\n",
      "Name           1309 non-null object\n",
      "Sex            1309 non-null object\n",
      "Age            1046 non-null float64\n",
      "SibSp          1309 non-null int64\n",
      "Parch          1309 non-null int64\n",
      "Ticket         1309 non-null object\n",
      "Fare           1309 non-null float64\n",
      "Cabin          295 non-null object\n",
      "Embarked       1309 non-null object\n",
      "name_len       1309 non-null int64\n",
      "title          1309 non-null object\n",
      "tcat           1309 non-null object\n",
      "newage         1309 non-null float64\n",
      "Fam            1309 non-null int64\n",
      "famcat         1309 non-null object\n",
      "cabincat       1309 non-null object\n",
      "fare_class     1309 non-null category\n",
      "age_class      1309 non-null category\n",
      "dtypes: category(2), float64(3), int64(5), object(10)\n",
      "memory usage: 186.9+ KB\n"
     ]
    }
   ],
   "source": [
    "data.info()"
   ]
  },
  {
   "cell_type": "code",
   "execution_count": 556,
   "metadata": {},
   "outputs": [],
   "source": [
    "labels = ['Pclass', 'Sex', 'Embarked', 'Fare', 'title', 'tcat', 'newage', 'famcat', 'cabincat', 'SibSp', 'Parch'] "
   ]
  },
  {
   "cell_type": "code",
   "execution_count": 256,
   "metadata": {},
   "outputs": [],
   "source": [
    "data['Pclass'] = data['Pclass'].astype('str')"
   ]
  },
  {
   "cell_type": "code",
   "execution_count": 557,
   "metadata": {},
   "outputs": [],
   "source": [
    "encode = list(data[labels].select_dtypes(include=[\"object\", \"category\"]))\n",
    "num = list(data[labels].select_dtypes(exclude=[\"object\", \"category\"]))\n",
    "encoded = pd.get_dummies(data[encode])\n",
    "T = pd.concat([encoded, data[num]], axis = 1)\n",
    "\n",
    "TRAIN = T[:len(train)]\n",
    "TEST = T[len(train):]\n"
   ]
  },
  {
   "cell_type": "markdown",
   "metadata": {},
   "source": [
    "# Models"
   ]
  },
  {
   "cell_type": "code",
   "execution_count": 27,
   "metadata": {},
   "outputs": [],
   "source": [
    "from sklearn.model_selection import cross_val_score as CVS"
   ]
  },
  {
   "cell_type": "markdown",
   "metadata": {},
   "source": [
    "### Feature Selection\n",
    "We are dealing with a lot of features lets reduc them to reasonable ones first"
   ]
  },
  {
   "cell_type": "code",
   "execution_count": 307,
   "metadata": {},
   "outputs": [],
   "source": [
    "from sklearn.ensemble import RandomForestClassifier as RFC\n",
    "from sklearn.model_selection import RandomizedSearchCV as RSCV\n",
    "from sklearn.feature_selection import SelectFromModel\n",
    "from sklearn.model_selection import StratifiedKFold"
   ]
  },
  {
   "cell_type": "code",
   "execution_count": 558,
   "metadata": {},
   "outputs": [
    {
     "data": {
      "text/plain": [
       "RandomForestClassifier(max_depth=20, max_features='sqrt', min_samples_leaf=2,\n",
       "                       min_samples_split=6, n_estimators=50, random_state=42)"
      ]
     },
     "execution_count": 558,
     "metadata": {},
     "output_type": "execute_result"
    }
   ],
   "source": [
    "rfc = RFC(random_state=42, n_estimators=50,max_features='sqrt',  min_samples_split=6,min_samples_leaf=2, max_depth=20)\n",
    "\n",
    "rfc.fit(TRAIN, y)"
   ]
  },
  {
   "cell_type": "code",
   "execution_count": 559,
   "metadata": {
    "collapsed": true
   },
   "outputs": [
    {
     "data": {
      "text/html": [
       "<div>\n",
       "<style scoped>\n",
       "    .dataframe tbody tr th:only-of-type {\n",
       "        vertical-align: middle;\n",
       "    }\n",
       "\n",
       "    .dataframe tbody tr th {\n",
       "        vertical-align: top;\n",
       "    }\n",
       "\n",
       "    .dataframe thead th {\n",
       "        text-align: right;\n",
       "    }\n",
       "</style>\n",
       "<table border=\"1\" class=\"dataframe\">\n",
       "  <thead>\n",
       "    <tr style=\"text-align: right;\">\n",
       "      <th></th>\n",
       "      <th>score</th>\n",
       "      <th>features</th>\n",
       "    </tr>\n",
       "  </thead>\n",
       "  <tbody>\n",
       "    <tr>\n",
       "      <th>41</th>\n",
       "      <td>0.000000</td>\n",
       "      <td>cabincat_T</td>\n",
       "    </tr>\n",
       "    <tr>\n",
       "      <th>21</th>\n",
       "      <td>0.000000</td>\n",
       "      <td>tcat_PP</td>\n",
       "    </tr>\n",
       "    <tr>\n",
       "      <th>29</th>\n",
       "      <td>0.000058</td>\n",
       "      <td>tcat_WEP</td>\n",
       "    </tr>\n",
       "    <tr>\n",
       "      <th>40</th>\n",
       "      <td>0.000129</td>\n",
       "      <td>cabincat_G</td>\n",
       "    </tr>\n",
       "    <tr>\n",
       "      <th>23</th>\n",
       "      <td>0.000496</td>\n",
       "      <td>tcat_SOC</td>\n",
       "    </tr>\n",
       "    <tr>\n",
       "      <th>17</th>\n",
       "      <td>0.000529</td>\n",
       "      <td>tcat_FCC</td>\n",
       "    </tr>\n",
       "    <tr>\n",
       "      <th>24</th>\n",
       "      <td>0.000556</td>\n",
       "      <td>tcat_SOTONOQ</td>\n",
       "    </tr>\n",
       "    <tr>\n",
       "      <th>22</th>\n",
       "      <td>0.000582</td>\n",
       "      <td>tcat_SCPARIS</td>\n",
       "    </tr>\n",
       "    <tr>\n",
       "      <th>12</th>\n",
       "      <td>0.000608</td>\n",
       "      <td>title_live</td>\n",
       "    </tr>\n",
       "    <tr>\n",
       "      <th>39</th>\n",
       "      <td>0.000845</td>\n",
       "      <td>cabincat_F</td>\n",
       "    </tr>\n",
       "    <tr>\n",
       "      <th>26</th>\n",
       "      <td>0.000917</td>\n",
       "      <td>tcat_STONO2</td>\n",
       "    </tr>\n",
       "    <tr>\n",
       "      <th>18</th>\n",
       "      <td>0.001219</td>\n",
       "      <td>tcat_LINE</td>\n",
       "    </tr>\n",
       "    <tr>\n",
       "      <th>30</th>\n",
       "      <td>0.001413</td>\n",
       "      <td>tcat_X</td>\n",
       "    </tr>\n",
       "    <tr>\n",
       "      <th>15</th>\n",
       "      <td>0.001414</td>\n",
       "      <td>tcat_C</td>\n",
       "    </tr>\n",
       "    <tr>\n",
       "      <th>34</th>\n",
       "      <td>0.001638</td>\n",
       "      <td>cabincat_A</td>\n",
       "    </tr>\n",
       "    <tr>\n",
       "      <th>28</th>\n",
       "      <td>0.002223</td>\n",
       "      <td>tcat_WC</td>\n",
       "    </tr>\n",
       "    <tr>\n",
       "      <th>16</th>\n",
       "      <td>0.002256</td>\n",
       "      <td>tcat_CA</td>\n",
       "    </tr>\n",
       "    <tr>\n",
       "      <th>14</th>\n",
       "      <td>0.003602</td>\n",
       "      <td>tcat_A5</td>\n",
       "    </tr>\n",
       "    <tr>\n",
       "      <th>25</th>\n",
       "      <td>0.004250</td>\n",
       "      <td>tcat_STONO</td>\n",
       "    </tr>\n",
       "    <tr>\n",
       "      <th>36</th>\n",
       "      <td>0.004401</td>\n",
       "      <td>cabincat_C</td>\n",
       "    </tr>\n",
       "    <tr>\n",
       "      <th>13</th>\n",
       "      <td>0.005494</td>\n",
       "      <td>title_rare</td>\n",
       "    </tr>\n",
       "    <tr>\n",
       "      <th>37</th>\n",
       "      <td>0.005799</td>\n",
       "      <td>cabincat_D</td>\n",
       "    </tr>\n",
       "    <tr>\n",
       "      <th>20</th>\n",
       "      <td>0.006061</td>\n",
       "      <td>tcat_PC</td>\n",
       "    </tr>\n",
       "    <tr>\n",
       "      <th>27</th>\n",
       "      <td>0.006155</td>\n",
       "      <td>tcat_SWPP</td>\n",
       "    </tr>\n",
       "    <tr>\n",
       "      <th>35</th>\n",
       "      <td>0.007237</td>\n",
       "      <td>cabincat_B</td>\n",
       "    </tr>\n",
       "    <tr>\n",
       "      <th>6</th>\n",
       "      <td>0.007991</td>\n",
       "      <td>Embarked_Q</td>\n",
       "    </tr>\n",
       "    <tr>\n",
       "      <th>5</th>\n",
       "      <td>0.008731</td>\n",
       "      <td>Embarked_C</td>\n",
       "    </tr>\n",
       "    <tr>\n",
       "      <th>32</th>\n",
       "      <td>0.009305</td>\n",
       "      <td>famcat_none</td>\n",
       "    </tr>\n",
       "    <tr>\n",
       "      <th>8</th>\n",
       "      <td>0.009440</td>\n",
       "      <td>title_Master.</td>\n",
       "    </tr>\n",
       "    <tr>\n",
       "      <th>7</th>\n",
       "      <td>0.010099</td>\n",
       "      <td>Embarked_S</td>\n",
       "    </tr>\n",
       "    <tr>\n",
       "      <th>19</th>\n",
       "      <td>0.010622</td>\n",
       "      <td>tcat_NUM</td>\n",
       "    </tr>\n",
       "    <tr>\n",
       "      <th>38</th>\n",
       "      <td>0.011113</td>\n",
       "      <td>cabincat_E</td>\n",
       "    </tr>\n",
       "    <tr>\n",
       "      <th>46</th>\n",
       "      <td>0.015945</td>\n",
       "      <td>Parch</td>\n",
       "    </tr>\n",
       "    <tr>\n",
       "      <th>1</th>\n",
       "      <td>0.016226</td>\n",
       "      <td>Pclass_2</td>\n",
       "    </tr>\n",
       "    <tr>\n",
       "      <th>33</th>\n",
       "      <td>0.020832</td>\n",
       "      <td>famcat_small</td>\n",
       "    </tr>\n",
       "    <tr>\n",
       "      <th>42</th>\n",
       "      <td>0.023878</td>\n",
       "      <td>cabincat_n</td>\n",
       "    </tr>\n",
       "    <tr>\n",
       "      <th>31</th>\n",
       "      <td>0.024061</td>\n",
       "      <td>famcat_large</td>\n",
       "    </tr>\n",
       "    <tr>\n",
       "      <th>0</th>\n",
       "      <td>0.026422</td>\n",
       "      <td>Pclass_1</td>\n",
       "    </tr>\n",
       "    <tr>\n",
       "      <th>45</th>\n",
       "      <td>0.028161</td>\n",
       "      <td>SibSp</td>\n",
       "    </tr>\n",
       "    <tr>\n",
       "      <th>11</th>\n",
       "      <td>0.032584</td>\n",
       "      <td>title_Mrs.</td>\n",
       "    </tr>\n",
       "    <tr>\n",
       "      <th>9</th>\n",
       "      <td>0.039069</td>\n",
       "      <td>title_Miss.</td>\n",
       "    </tr>\n",
       "    <tr>\n",
       "      <th>2</th>\n",
       "      <td>0.058446</td>\n",
       "      <td>Pclass_3</td>\n",
       "    </tr>\n",
       "    <tr>\n",
       "      <th>3</th>\n",
       "      <td>0.089609</td>\n",
       "      <td>Sex_female</td>\n",
       "    </tr>\n",
       "    <tr>\n",
       "      <th>44</th>\n",
       "      <td>0.104741</td>\n",
       "      <td>newage</td>\n",
       "    </tr>\n",
       "    <tr>\n",
       "      <th>43</th>\n",
       "      <td>0.106433</td>\n",
       "      <td>Fare</td>\n",
       "    </tr>\n",
       "    <tr>\n",
       "      <th>10</th>\n",
       "      <td>0.137109</td>\n",
       "      <td>title_Mr.</td>\n",
       "    </tr>\n",
       "    <tr>\n",
       "      <th>4</th>\n",
       "      <td>0.151297</td>\n",
       "      <td>Sex_male</td>\n",
       "    </tr>\n",
       "  </tbody>\n",
       "</table>\n",
       "</div>"
      ],
      "text/plain": [
       "       score       features\n",
       "41  0.000000     cabincat_T\n",
       "21  0.000000        tcat_PP\n",
       "29  0.000058       tcat_WEP\n",
       "40  0.000129     cabincat_G\n",
       "23  0.000496       tcat_SOC\n",
       "17  0.000529       tcat_FCC\n",
       "24  0.000556   tcat_SOTONOQ\n",
       "22  0.000582   tcat_SCPARIS\n",
       "12  0.000608     title_live\n",
       "39  0.000845     cabincat_F\n",
       "26  0.000917    tcat_STONO2\n",
       "18  0.001219      tcat_LINE\n",
       "30  0.001413         tcat_X\n",
       "15  0.001414         tcat_C\n",
       "34  0.001638     cabincat_A\n",
       "28  0.002223        tcat_WC\n",
       "16  0.002256        tcat_CA\n",
       "14  0.003602        tcat_A5\n",
       "25  0.004250     tcat_STONO\n",
       "36  0.004401     cabincat_C\n",
       "13  0.005494     title_rare\n",
       "37  0.005799     cabincat_D\n",
       "20  0.006061        tcat_PC\n",
       "27  0.006155      tcat_SWPP\n",
       "35  0.007237     cabincat_B\n",
       "6   0.007991     Embarked_Q\n",
       "5   0.008731     Embarked_C\n",
       "32  0.009305    famcat_none\n",
       "8   0.009440  title_Master.\n",
       "7   0.010099     Embarked_S\n",
       "19  0.010622       tcat_NUM\n",
       "38  0.011113     cabincat_E\n",
       "46  0.015945          Parch\n",
       "1   0.016226       Pclass_2\n",
       "33  0.020832   famcat_small\n",
       "42  0.023878     cabincat_n\n",
       "31  0.024061   famcat_large\n",
       "0   0.026422       Pclass_1\n",
       "45  0.028161          SibSp\n",
       "11  0.032584     title_Mrs.\n",
       "9   0.039069    title_Miss.\n",
       "2   0.058446       Pclass_3\n",
       "3   0.089609     Sex_female\n",
       "44  0.104741         newage\n",
       "43  0.106433           Fare\n",
       "10  0.137109      title_Mr.\n",
       "4   0.151297       Sex_male"
      ]
     },
     "execution_count": 559,
     "metadata": {},
     "output_type": "execute_result"
    }
   ],
   "source": [
    "intro = pd.DataFrame({'score' : rfc.feature_importances_, 'features' : TRAIN.columns})\n",
    "intro.sort_values(by='score')"
   ]
  },
  {
   "cell_type": "markdown",
   "metadata": {},
   "source": [
    "There are lot of columns with next to nothing importance. We need to do feature selection to proceed"
   ]
  },
  {
   "cell_type": "code",
   "execution_count": 560,
   "metadata": {
    "scrolled": true
   },
   "outputs": [
    {
     "name": "stdout",
     "output_type": "stream",
     "text": [
      "(891, 12)\n"
     ]
    }
   ],
   "source": [
    "model = SelectFromModel(rfc, prefit=True)\n",
    "TRAIN_R = model.transform(TRAIN)\n",
    "print(TRAIN_R.shape)\n",
    "\n",
    "TEST_R = model.transform(TEST)"
   ]
  },
  {
   "cell_type": "markdown",
   "metadata": {},
   "source": [
    "### Trying different models"
   ]
  },
  {
   "cell_type": "code",
   "execution_count": 300,
   "metadata": {},
   "outputs": [],
   "source": [
    "from sklearn.ensemble import GradientBoostingClassifier as GBC\n",
    "from sklearn.neighbors import KNeighborsClassifier as KNN\n",
    "from sklearn.linear_model import LogisticRegression as LR\n",
    "from sklearn import svm"
   ]
  },
  {
   "cell_type": "code",
   "execution_count": 337,
   "metadata": {},
   "outputs": [],
   "source": [
    "gbc = GBC()\n",
    "knn = KNN(n_neighbors=5)\n",
    "lr = LR(solver='lbfgs', max_iter=1500)\n",
    "svc = svm.SVC(gamma=0.1, C=1)"
   ]
  },
  {
   "cell_type": "code",
   "execution_count": 338,
   "metadata": {},
   "outputs": [],
   "source": [
    "models = [gbc, knn, lr, svc, rfc]"
   ]
  },
  {
   "cell_type": "code",
   "execution_count": 564,
   "metadata": {},
   "outputs": [
    {
     "name": "stdout",
     "output_type": "stream",
     "text": [
      "Model : <class 'sklearn.ensemble._gb.GradientBoostingClassifier'> Score : 0.8327663046889713\n",
      "Model : <class 'sklearn.neighbors._classification.KNeighborsClassifier'> Score : 0.710488983742389\n",
      "Model : <class 'sklearn.linear_model._logistic.LogisticRegression'> Score : 0.822666499278137\n",
      "Model : <class 'sklearn.svm._classes.SVC'> Score : 0.7228359801644592\n",
      "Model : <class 'sklearn.ensemble._forest.RandomForestClassifier'> Score : 0.8338961772644529\n"
     ]
    }
   ],
   "source": [
    "for model in models:\n",
    "    \n",
    "    val = CVS(model, TRAIN_R, y, cv = 5, scoring='accuracy')\n",
    "    print('Model : ' + str(model.__class__ )+' Score : '+ str(np.mean(val)))\n",
    "# Model : <class 'sklearn.ensemble._gb.GradientBoostingClassifier'> Score : 0.8327663046889713\n",
    "# Model : <class 'sklearn.neighbors._classification.KNeighborsClassifier'> Score : 0.710488983742389\n",
    "# Model : <class 'sklearn.linear_model._logistic.LogisticRegression'> Score : 0.822666499278137\n",
    "# Model : <class 'sklearn.svm._classes.SVC'> Score : 0.7228359801644592\n",
    "# Model : <class 'sklearn.ensemble._forest.RandomForestClassifier'> Score : 0.8338961772644529"
   ]
  },
  {
   "cell_type": "markdown",
   "metadata": {},
   "source": [
    "AS expected Random Forest Model is turning out to be the best yet. But we need to tune hyperparameters."
   ]
  },
  {
   "cell_type": "code",
   "execution_count": 567,
   "metadata": {
    "scrolled": false
   },
   "outputs": [
    {
     "name": "stdout",
     "output_type": "stream",
     "text": [
      "Best score: 0.8316301550436256\n",
      "Best parameters: {'n_estimators': 30, 'min_samples_split': 2, 'min_samples_leaf': 1, 'max_features': 'auto', 'max_depth': 4, 'bootstrap': True}\n"
     ]
    }
   ],
   "source": [
    "\n",
    "params = {\n",
    "    'max_depth' : [4, 6, 8, 20, 50],\n",
    "    'n_estimators': [10, 30, 50, 60 ,],\n",
    "    'max_features': ['sqrt', 'auto', 'log2'],\n",
    "    'min_samples_split': [2, 3, 10],\n",
    "    'min_samples_leaf': [1, 3, 10],\n",
    "    'bootstrap': [True, False],\n",
    "    }\n",
    "rfc2 = RFC()\n",
    "cross_validation = StratifiedKFold(n_splits=5)\n",
    "\n",
    "search = RSCV(rfc2, scoring='accuracy', param_distributions = params,cv=cross_validation)\n",
    "\n",
    "search.fit(TRAIN_R, y)\n",
    "\n",
    "print('Best score: {}'.format(search.best_score_))\n",
    "\n",
    "print('Best parameters: {}'.format(search.best_params_))\n",
    "\n",
    "# Best score: 0.8316301550436256\n",
    "# Best parameters: {'n_estimators': 30, 'min_samples_split': 2, 'min_samples_leaf': 1, 'max_features': 'auto', 'max_depth': 4, 'bootstrap': True}"
   ]
  },
  {
   "cell_type": "code",
   "execution_count": 568,
   "metadata": {},
   "outputs": [
    {
     "data": {
      "text/plain": [
       "RandomForestClassifier(bootstrap=False, max_depth=8, n_estimators=30)"
      ]
     },
     "execution_count": 568,
     "metadata": {},
     "output_type": "execute_result"
    }
   ],
   "source": [
    "rfc2 = RFC(n_estimators= 30, min_samples_split = 2, min_samples_leaf = 1, max_features = 'auto', max_depth = 8, bootstrap = False)\n",
    "rfc2.fit(TRAIN, y)"
   ]
  },
  {
   "cell_type": "code",
   "execution_count": 569,
   "metadata": {},
   "outputs": [],
   "source": [
    "\n",
    "yp = rfc2.predict(TEST)\n",
    "df = pd.DataFrame(yp, columns=['Survived'])\n",
    "df1 = pd.concat( [test[['PassengerId']], df], axis=1)\n",
    "df1.to_csv('new_titanic', index=False)"
   ]
  }
 ],
 "metadata": {
  "kernelspec": {
   "display_name": "Python 3",
   "language": "python",
   "name": "python3"
  },
  "language_info": {
   "codemirror_mode": {
    "name": "ipython",
    "version": 3
   },
   "file_extension": ".py",
   "mimetype": "text/x-python",
   "name": "python",
   "nbconvert_exporter": "python",
   "pygments_lexer": "ipython3",
   "version": "3.7.3"
  }
 },
 "nbformat": 4,
 "nbformat_minor": 2
}
