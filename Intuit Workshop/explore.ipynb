{
 "cells": [
  {
   "cell_type": "code",
   "execution_count": 2,
   "metadata": {},
   "outputs": [],
   "source": [
    "import pandas as pd\n",
    "import numpy as np\n",
    "import matplotlib.pyplot as plt\n",
    "import seaborn as sns\n",
    "%matplotlib inline"
   ]
  },
  {
   "cell_type": "code",
   "execution_count": 3,
   "metadata": {},
   "outputs": [],
   "source": [
    "train = pd.read_csv(\"final_data_train.csv\")\n",
    "data=train.copy()\n",
    "# train.info()"
   ]
  },
  {
   "cell_type": "code",
   "execution_count": 4,
   "metadata": {},
   "outputs": [],
   "source": [
    "labels = []"
   ]
  },
  {
   "cell_type": "code",
   "execution_count": 103,
   "metadata": {
    "collapsed": true
   },
   "outputs": [
    {
     "data": {
      "text/html": [
       "<div>\n",
       "<style scoped>\n",
       "    .dataframe tbody tr th:only-of-type {\n",
       "        vertical-align: middle;\n",
       "    }\n",
       "\n",
       "    .dataframe tbody tr th {\n",
       "        vertical-align: top;\n",
       "    }\n",
       "\n",
       "    .dataframe thead th {\n",
       "        text-align: right;\n",
       "    }\n",
       "</style>\n",
       "<table border=\"1\" class=\"dataframe\">\n",
       "  <thead>\n",
       "    <tr style=\"text-align: right;\">\n",
       "      <th></th>\n",
       "      <th>dropout</th>\n",
       "      <th>nCourses</th>\n",
       "      <th>nEnrollments</th>\n",
       "      <th>avg_delay_chapters_course</th>\n",
       "      <th>lifetime</th>\n",
       "      <th>btw_course_gap_min</th>\n",
       "      <th>btw_course_gap_max</th>\n",
       "      <th>btw_course_gap_mean</th>\n",
       "      <th>access</th>\n",
       "      <th>discussion</th>\n",
       "      <th>navigate</th>\n",
       "      <th>page_close</th>\n",
       "      <th>problem</th>\n",
       "      <th>video</th>\n",
       "      <th>wiki</th>\n",
       "      <th>problem_duration</th>\n",
       "      <th>video_duration</th>\n",
       "      <th>discussion_duration</th>\n",
       "      <th>md_interarrival_time</th>\n",
       "      <th>mean_interarrival_time</th>\n",
       "      <th>problem_duration_per_course</th>\n",
       "      <th>video_duration_per_course</th>\n",
       "      <th>discussion_duration_per_course</th>\n",
       "    </tr>\n",
       "  </thead>\n",
       "  <tbody>\n",
       "    <tr>\n",
       "      <th>count</th>\n",
       "      <td>72395.000000</td>\n",
       "      <td>72395.000000</td>\n",
       "      <td>72395.000000</td>\n",
       "      <td>7.239500e+04</td>\n",
       "      <td>72395.000000</td>\n",
       "      <td>72395.000000</td>\n",
       "      <td>72395.000000</td>\n",
       "      <td>72395.000000</td>\n",
       "      <td>72395.000000</td>\n",
       "      <td>72395.000000</td>\n",
       "      <td>72395.000000</td>\n",
       "      <td>72395.000000</td>\n",
       "      <td>72395.000000</td>\n",
       "      <td>72395.000000</td>\n",
       "      <td>72395.000000</td>\n",
       "      <td>72395.000000</td>\n",
       "      <td>72395.000000</td>\n",
       "      <td>7.239500e+04</td>\n",
       "      <td>72395.000000</td>\n",
       "      <td>72395.000000</td>\n",
       "      <td>72395.000000</td>\n",
       "      <td>72395.00000</td>\n",
       "      <td>7.239500e+04</td>\n",
       "    </tr>\n",
       "    <tr>\n",
       "      <th>mean</th>\n",
       "      <td>0.792403</td>\n",
       "      <td>1.877353</td>\n",
       "      <td>3395.576697</td>\n",
       "      <td>1.806995e+05</td>\n",
       "      <td>35.806506</td>\n",
       "      <td>591.387389</td>\n",
       "      <td>605.521182</td>\n",
       "      <td>596.525763</td>\n",
       "      <td>25.726901</td>\n",
       "      <td>5.261151</td>\n",
       "      <td>8.372512</td>\n",
       "      <td>10.260018</td>\n",
       "      <td>10.668016</td>\n",
       "      <td>6.648291</td>\n",
       "      <td>0.738048</td>\n",
       "      <td>795.447034</td>\n",
       "      <td>1443.089910</td>\n",
       "      <td>1.930331e+03</td>\n",
       "      <td>47.176269</td>\n",
       "      <td>8692.418258</td>\n",
       "      <td>535.159108</td>\n",
       "      <td>1084.93008</td>\n",
       "      <td>1.417819e+03</td>\n",
       "    </tr>\n",
       "    <tr>\n",
       "      <th>std</th>\n",
       "      <td>0.405590</td>\n",
       "      <td>1.540011</td>\n",
       "      <td>2241.720083</td>\n",
       "      <td>3.349091e+05</td>\n",
       "      <td>59.655252</td>\n",
       "      <td>483.475053</td>\n",
       "      <td>468.072365</td>\n",
       "      <td>477.511261</td>\n",
       "      <td>52.444235</td>\n",
       "      <td>30.659523</td>\n",
       "      <td>12.971313</td>\n",
       "      <td>20.588366</td>\n",
       "      <td>35.261382</td>\n",
       "      <td>14.757497</td>\n",
       "      <td>3.472259</td>\n",
       "      <td>4268.854746</td>\n",
       "      <td>7665.628551</td>\n",
       "      <td>3.917719e+04</td>\n",
       "      <td>2531.636986</td>\n",
       "      <td>25666.853592</td>\n",
       "      <td>2966.409454</td>\n",
       "      <td>6033.20715</td>\n",
       "      <td>3.277623e+04</td>\n",
       "    </tr>\n",
       "    <tr>\n",
       "      <th>min</th>\n",
       "      <td>0.000000</td>\n",
       "      <td>1.000000</td>\n",
       "      <td>385.000000</td>\n",
       "      <td>0.000000e+00</td>\n",
       "      <td>0.000000</td>\n",
       "      <td>0.000000</td>\n",
       "      <td>0.000000</td>\n",
       "      <td>0.000000</td>\n",
       "      <td>0.000000</td>\n",
       "      <td>0.000000</td>\n",
       "      <td>0.000000</td>\n",
       "      <td>0.000000</td>\n",
       "      <td>0.000000</td>\n",
       "      <td>0.000000</td>\n",
       "      <td>0.000000</td>\n",
       "      <td>0.000000</td>\n",
       "      <td>0.000000</td>\n",
       "      <td>0.000000e+00</td>\n",
       "      <td>0.000000</td>\n",
       "      <td>0.000000</td>\n",
       "      <td>0.000000</td>\n",
       "      <td>0.00000</td>\n",
       "      <td>0.000000e+00</td>\n",
       "    </tr>\n",
       "    <tr>\n",
       "      <th>25%</th>\n",
       "      <td>1.000000</td>\n",
       "      <td>1.000000</td>\n",
       "      <td>1306.000000</td>\n",
       "      <td>0.000000e+00</td>\n",
       "      <td>4.000000</td>\n",
       "      <td>7.000000</td>\n",
       "      <td>17.000000</td>\n",
       "      <td>15.000000</td>\n",
       "      <td>1.000000</td>\n",
       "      <td>0.000000</td>\n",
       "      <td>2.000000</td>\n",
       "      <td>0.000000</td>\n",
       "      <td>0.000000</td>\n",
       "      <td>0.000000</td>\n",
       "      <td>0.000000</td>\n",
       "      <td>0.000000</td>\n",
       "      <td>0.000000</td>\n",
       "      <td>0.000000e+00</td>\n",
       "      <td>1.000000</td>\n",
       "      <td>11.271284</td>\n",
       "      <td>0.000000</td>\n",
       "      <td>0.00000</td>\n",
       "      <td>0.000000e+00</td>\n",
       "    </tr>\n",
       "    <tr>\n",
       "      <th>50%</th>\n",
       "      <td>1.000000</td>\n",
       "      <td>1.000000</td>\n",
       "      <td>2808.000000</td>\n",
       "      <td>7.777778e+00</td>\n",
       "      <td>15.000000</td>\n",
       "      <td>999.000000</td>\n",
       "      <td>999.000000</td>\n",
       "      <td>999.000000</td>\n",
       "      <td>6.000000</td>\n",
       "      <td>0.000000</td>\n",
       "      <td>4.000000</td>\n",
       "      <td>2.000000</td>\n",
       "      <td>0.000000</td>\n",
       "      <td>1.000000</td>\n",
       "      <td>0.000000</td>\n",
       "      <td>0.000000</td>\n",
       "      <td>0.000000</td>\n",
       "      <td>0.000000e+00</td>\n",
       "      <td>3.500000</td>\n",
       "      <td>181.928571</td>\n",
       "      <td>0.000000</td>\n",
       "      <td>0.00000</td>\n",
       "      <td>0.000000e+00</td>\n",
       "    </tr>\n",
       "    <tr>\n",
       "      <th>75%</th>\n",
       "      <td>1.000000</td>\n",
       "      <td>2.000000</td>\n",
       "      <td>5636.000000</td>\n",
       "      <td>2.144375e+02</td>\n",
       "      <td>29.000000</td>\n",
       "      <td>999.000000</td>\n",
       "      <td>999.000000</td>\n",
       "      <td>999.000000</td>\n",
       "      <td>26.000000</td>\n",
       "      <td>2.000000</td>\n",
       "      <td>10.000000</td>\n",
       "      <td>10.000000</td>\n",
       "      <td>6.000000</td>\n",
       "      <td>6.000000</td>\n",
       "      <td>1.000000</td>\n",
       "      <td>207.000000</td>\n",
       "      <td>14.000000</td>\n",
       "      <td>2.700000e+01</td>\n",
       "      <td>7.000000</td>\n",
       "      <td>7847.021302</td>\n",
       "      <td>135.291667</td>\n",
       "      <td>10.00000</td>\n",
       "      <td>1.800000e+01</td>\n",
       "    </tr>\n",
       "    <tr>\n",
       "      <th>max</th>\n",
       "      <td>1.000000</td>\n",
       "      <td>18.000000</td>\n",
       "      <td>7310.000000</td>\n",
       "      <td>1.086171e+06</td>\n",
       "      <td>275.000000</td>\n",
       "      <td>999.000000</td>\n",
       "      <td>999.000000</td>\n",
       "      <td>999.000000</td>\n",
       "      <td>2163.000000</td>\n",
       "      <td>4360.000000</td>\n",
       "      <td>649.000000</td>\n",
       "      <td>389.000000</td>\n",
       "      <td>1046.000000</td>\n",
       "      <td>399.000000</td>\n",
       "      <td>338.000000</td>\n",
       "      <td>420445.000000</td>\n",
       "      <td>327914.000000</td>\n",
       "      <td>2.495175e+06</td>\n",
       "      <td>289203.000000</td>\n",
       "      <td>793253.333333</td>\n",
       "      <td>258808.000000</td>\n",
       "      <td>232236.00000</td>\n",
       "      <td>2.495175e+06</td>\n",
       "    </tr>\n",
       "  </tbody>\n",
       "</table>\n",
       "</div>"
      ],
      "text/plain": [
       "            dropout      nCourses  nEnrollments  avg_delay_chapters_course  \\\n",
       "count  72395.000000  72395.000000  72395.000000               7.239500e+04   \n",
       "mean       0.792403      1.877353   3395.576697               1.806995e+05   \n",
       "std        0.405590      1.540011   2241.720083               3.349091e+05   \n",
       "min        0.000000      1.000000    385.000000               0.000000e+00   \n",
       "25%        1.000000      1.000000   1306.000000               0.000000e+00   \n",
       "50%        1.000000      1.000000   2808.000000               7.777778e+00   \n",
       "75%        1.000000      2.000000   5636.000000               2.144375e+02   \n",
       "max        1.000000     18.000000   7310.000000               1.086171e+06   \n",
       "\n",
       "           lifetime  btw_course_gap_min  btw_course_gap_max  \\\n",
       "count  72395.000000        72395.000000        72395.000000   \n",
       "mean      35.806506          591.387389          605.521182   \n",
       "std       59.655252          483.475053          468.072365   \n",
       "min        0.000000            0.000000            0.000000   \n",
       "25%        4.000000            7.000000           17.000000   \n",
       "50%       15.000000          999.000000          999.000000   \n",
       "75%       29.000000          999.000000          999.000000   \n",
       "max      275.000000          999.000000          999.000000   \n",
       "\n",
       "       btw_course_gap_mean        access    discussion      navigate  \\\n",
       "count         72395.000000  72395.000000  72395.000000  72395.000000   \n",
       "mean            596.525763     25.726901      5.261151      8.372512   \n",
       "std             477.511261     52.444235     30.659523     12.971313   \n",
       "min               0.000000      0.000000      0.000000      0.000000   \n",
       "25%              15.000000      1.000000      0.000000      2.000000   \n",
       "50%             999.000000      6.000000      0.000000      4.000000   \n",
       "75%             999.000000     26.000000      2.000000     10.000000   \n",
       "max             999.000000   2163.000000   4360.000000    649.000000   \n",
       "\n",
       "         page_close       problem         video          wiki  \\\n",
       "count  72395.000000  72395.000000  72395.000000  72395.000000   \n",
       "mean      10.260018     10.668016      6.648291      0.738048   \n",
       "std       20.588366     35.261382     14.757497      3.472259   \n",
       "min        0.000000      0.000000      0.000000      0.000000   \n",
       "25%        0.000000      0.000000      0.000000      0.000000   \n",
       "50%        2.000000      0.000000      1.000000      0.000000   \n",
       "75%       10.000000      6.000000      6.000000      1.000000   \n",
       "max      389.000000   1046.000000    399.000000    338.000000   \n",
       "\n",
       "       problem_duration  video_duration  discussion_duration  \\\n",
       "count      72395.000000    72395.000000         7.239500e+04   \n",
       "mean         795.447034     1443.089910         1.930331e+03   \n",
       "std         4268.854746     7665.628551         3.917719e+04   \n",
       "min            0.000000        0.000000         0.000000e+00   \n",
       "25%            0.000000        0.000000         0.000000e+00   \n",
       "50%            0.000000        0.000000         0.000000e+00   \n",
       "75%          207.000000       14.000000         2.700000e+01   \n",
       "max       420445.000000   327914.000000         2.495175e+06   \n",
       "\n",
       "       md_interarrival_time  mean_interarrival_time  \\\n",
       "count          72395.000000            72395.000000   \n",
       "mean              47.176269             8692.418258   \n",
       "std             2531.636986            25666.853592   \n",
       "min                0.000000                0.000000   \n",
       "25%                1.000000               11.271284   \n",
       "50%                3.500000              181.928571   \n",
       "75%                7.000000             7847.021302   \n",
       "max           289203.000000           793253.333333   \n",
       "\n",
       "       problem_duration_per_course  video_duration_per_course  \\\n",
       "count                 72395.000000                72395.00000   \n",
       "mean                    535.159108                 1084.93008   \n",
       "std                    2966.409454                 6033.20715   \n",
       "min                       0.000000                    0.00000   \n",
       "25%                       0.000000                    0.00000   \n",
       "50%                       0.000000                    0.00000   \n",
       "75%                     135.291667                   10.00000   \n",
       "max                  258808.000000               232236.00000   \n",
       "\n",
       "       discussion_duration_per_course  \n",
       "count                    7.239500e+04  \n",
       "mean                     1.417819e+03  \n",
       "std                      3.277623e+04  \n",
       "min                      0.000000e+00  \n",
       "25%                      0.000000e+00  \n",
       "50%                      0.000000e+00  \n",
       "75%                      1.800000e+01  \n",
       "max                      2.495175e+06  "
      ]
     },
     "execution_count": 103,
     "metadata": {},
     "output_type": "execute_result"
    }
   ],
   "source": [
    "# pd.set_option('display.max_columns', None)\n",
    "# data.iloc[:5,:]\n",
    "data.describe()"
   ]
  },
  {
   "cell_type": "code",
   "execution_count": 211,
   "metadata": {
    "scrolled": false
   },
   "outputs": [
    {
     "data": {
      "text/plain": [
       "True"
      ]
     },
     "execution_count": 211,
     "metadata": {},
     "output_type": "execute_result"
    }
   ],
   "source": [
    "data.dtypes[-1] == 'category'"
   ]
  },
  {
   "cell_type": "code",
   "execution_count": 5,
   "metadata": {},
   "outputs": [],
   "source": [
    "data.drop(['enrollment_id'], axis=1, inplace=True)"
   ]
  },
  {
   "cell_type": "code",
   "execution_count": 6,
   "metadata": {},
   "outputs": [],
   "source": [
    "data.drop(['username'], axis=1, inplace=True)"
   ]
  },
  {
   "cell_type": "code",
   "execution_count": 7,
   "metadata": {},
   "outputs": [],
   "source": [
    "data.drop(['avg_delay_chapters'], axis=1, inplace=True)"
   ]
  },
  {
   "cell_type": "code",
   "execution_count": 8,
   "metadata": {},
   "outputs": [
    {
     "data": {
      "text/plain": [
       "<seaborn.axisgrid.FacetGrid at 0x7f1253add860>"
      ]
     },
     "execution_count": 8,
     "metadata": {},
     "output_type": "execute_result"
    },
    {
     "data": {
      "image/png": "[encoded data removed]",
      "text/plain": [
       "<Figure size 360x360 with 1 Axes>"
      ]
     },
     "metadata": {
      "needs_background": "light"
     },
     "output_type": "display_data"
    }
   ],
   "source": [
    "b = pd.DataFrame(data[['course_id', 'dropout']].groupby(['course_id']).mean().sort_values(by='dropout',ascending=False))\n",
    "b['course'] = b.index\n",
    "sns.relplot(x='course', y='dropout', data=b,kind='line',sort=False)"
   ]
  },
  {
   "cell_type": "code",
   "execution_count": 9,
   "metadata": {},
   "outputs": [],
   "source": [
    "labels.append('course_id')"
   ]
  },
  {
   "cell_type": "code",
   "execution_count": 12,
   "metadata": {},
   "outputs": [],
   "source": [
    "data.drop(['from', 'to'], axis=1, inplace=True)"
   ]
  },
  {
   "cell_type": "code",
   "execution_count": 14,
   "metadata": {},
   "outputs": [],
   "source": [
    "b = pd.DataFrame(data[['nCourses', 'dropout']].groupby(['nCourses']).mean().sort_values(by='dropout',ascending=False))\n",
    "b['nCourses'] = b.index\n",
    "# sns.relplot(x='nCourses', y='dropout', data=b,kind='line', )"
   ]
  },
  {
   "cell_type": "code",
   "execution_count": 15,
   "metadata": {},
   "outputs": [],
   "source": [
    "labels.append('nCourses')"
   ]
  },
  {
   "cell_type": "code",
   "execution_count": 19,
   "metadata": {},
   "outputs": [
    {
     "data": {
      "image/png": "[encoded data removed]",
      "text/plain": [
       "<Figure size 288x360 with 1 Axes>"
      ]
     },
     "metadata": {
      "needs_background": "light"
     },
     "output_type": "display_data"
    }
   ],
   "source": [
    "b = pd.DataFrame(data[['nEnrollments', 'dropout']].groupby(['nEnrollments']).mean().sort_values(by='dropout',ascending=False))\n",
    "b['nEnrollments'] = b.index\n",
    "fig, ax = plt.subplots(nrows=1,ncols=1,figsize=(4,5))\n",
    "sns.relplot(x='nEnrollments', y='dropout', data=b,ax=ax )\n",
    "plt.close(2)"
   ]
  },
  {
   "cell_type": "code",
   "execution_count": 20,
   "metadata": {},
   "outputs": [],
   "source": [
    "labels.append('nEnrollments')"
   ]
  },
  {
   "cell_type": "code",
   "execution_count": 23,
   "metadata": {},
   "outputs": [],
   "source": [
    "b = pd.DataFrame(data[['avg_delay_chapters_course', 'dropout']].groupby(['avg_delay_chapters_course']).mean().sort_values(by='dropout',ascending=False))\n",
    "b['avg_delay_chapters_course'] = b.index\n",
    "# fig, ax = plt.subplots(nrows=1,ncols=1,figsize=(4,5))\n",
    "# sns.relplot(x='avg_delay_chapters_course', y='dropout', data=b,ax=ax )\n",
    "# plt.close(2)"
   ]
  },
  {
   "cell_type": "code",
   "execution_count": 30,
   "metadata": {
    "scrolled": true
   },
   "outputs": [],
   "source": [
    "b = pd.DataFrame(data[['lifetime', 'dropout']].groupby(['lifetime']).mean().sort_values(by='dropout',ascending=False))\n",
    "b['lifetime'] = b.index\n",
    "# fig, ax = plt.subplots(nrows=1,ncols=1,figsize=(20,9))\n",
    "# sns.relplot(x='lifetime', y='dropout', data=b,ax=ax )\n",
    "# plt.close(2)"
   ]
  },
  {
   "cell_type": "code",
   "execution_count": 26,
   "metadata": {},
   "outputs": [],
   "source": [
    "data['lifetime_group'] = pd.cut(data['lifetime'], [-1, 52, 110, 190,280 ])"
   ]
  },
  {
   "cell_type": "code",
   "execution_count": 31,
   "metadata": {},
   "outputs": [],
   "source": [
    "b = pd.DataFrame(data[['lifetime_group', 'dropout']].groupby(['lifetime_group']).mean().sort_values(by='dropout',ascending=False))\n",
    "b['lifetime_group'] = b.index\n",
    "# fig, ax = plt.subplots(nrows=1,ncols=1,figsize=(20,9))\n",
    "# sns.catplot(x='lifetime_group', hue='dropout', data=data,ax=ax, kind='count' )\n",
    "# plt.close(2)\n",
    "# b"
   ]
  },
  {
   "cell_type": "code",
   "execution_count": 32,
   "metadata": {},
   "outputs": [],
   "source": [
    "labels.append('lifetime_group')"
   ]
  },
  {
   "cell_type": "code",
   "execution_count": 33,
   "metadata": {},
   "outputs": [],
   "source": [
    "data.drop(['lifetime'], axis=1, inplace=True)"
   ]
  },
  {
   "cell_type": "code",
   "execution_count": 35,
   "metadata": {
    "scrolled": false
   },
   "outputs": [],
   "source": [
    "# b = pd.DataFrame(data[['btw_course_gap_mean', 'dropout']].groupby(['btw_course_gap_mean']).mean().sort_values(by='dropout',ascending=False))\n",
    "# b['btw_course_gap_mean'] = b.index\n",
    "# fig, ax = plt.subplots(nrows=1,ncols=1,figsize=(10,9))\n",
    "# sns.relplot(x='btw_course_gap_mean', y='dropout',  data=b,ax=ax, )\n",
    "# plt.close(2)\n",
    "# b"
   ]
  },
  {
   "cell_type": "code",
   "execution_count": 37,
   "metadata": {},
   "outputs": [],
   "source": [
    "# b = pd.DataFrame(data[['access', 'dropout']].groupby(['access']).mean().sort_values(by='dropout',ascending=False))\n",
    "# b['access'] = b.index\n",
    "# fig, ax = plt.subplots(nrows=1,ncols=1,figsize=(20,9))\n",
    "# plt.xticks(np.arange(min(b['access']), max(b['access'])+1,100))\n",
    "# sns.relplot(x='access', y='dropout',  data=b,ax=ax )\n",
    "\n",
    "# plt.close(2)"
   ]
  },
  {
   "cell_type": "code",
   "execution_count": 38,
   "metadata": {},
   "outputs": [],
   "source": [
    "data['access_group'] = pd.cut(data['access'], [-1,100,200,300,400,500,2200])"
   ]
  },
  {
   "cell_type": "code",
   "execution_count": 42,
   "metadata": {},
   "outputs": [],
   "source": [
    "b = pd.DataFrame(data[['access_group', 'dropout']].groupby(['access_group']).mean().sort_values(by='dropout',ascending=False))\n",
    "b['access'] = b.index\n",
    "# fig, ax = plt.subplots(nrows=1,ncols=1,figsize=(20,9))\n",
    "# # plt.xticks(np.arange(min(b['access']), max(b['access'])+1,100))\n",
    "# plt.bar(list(b['access'].astype('str')),list(b['dropout']))\n"
   ]
  },
  {
   "cell_type": "code",
   "execution_count": 43,
   "metadata": {},
   "outputs": [],
   "source": [
    "labels.append('access_group')"
   ]
  },
  {
   "cell_type": "code",
   "execution_count": 44,
   "metadata": {},
   "outputs": [],
   "source": [
    "data.drop(['access'], axis=1, inplace=True)"
   ]
  },
  {
   "cell_type": "code",
   "execution_count": 45,
   "metadata": {},
   "outputs": [],
   "source": [
    "corr = data.corr()"
   ]
  },
  {
   "cell_type": "code",
   "execution_count": 62,
   "metadata": {},
   "outputs": [
    {
     "data": {
      "text/plain": [
       "dropout                           1.000000\n",
       "nCourses                         -0.098793\n",
       "nEnrollments                     -0.101583\n",
       "avg_delay_chapters_course        -0.011411\n",
       "btw_course_gap_min                0.088720\n",
       "btw_course_gap_max                0.083841\n",
       "btw_course_gap_mean               0.087202\n",
       "discussion                       -0.202237\n",
       "navigate                         -0.458621\n",
       "page_close                       -0.492389\n",
       "problem                          -0.329692\n",
       "video                            -0.422809\n",
       "wiki                             -0.165261\n",
       "problem_duration                 -0.236480\n",
       "video_duration                   -0.182442\n",
       "discussion_duration              -0.058032\n",
       "md_interarrival_time             -0.002089\n",
       "mean_interarrival_time           -0.056995\n",
       "problem_duration_per_course      -0.219177\n",
       "video_duration_per_course        -0.158982\n",
       "discussion_duration_per_course   -0.050504\n",
       "Name: dropout, dtype: float64"
      ]
     },
     "execution_count": 62,
     "metadata": {},
     "output_type": "execute_result"
    }
   ],
   "source": [
    "corr['dropout']"
   ]
  },
  {
   "cell_type": "code",
   "execution_count": 47,
   "metadata": {},
   "outputs": [],
   "source": [
    "labels.append('btw_course_gap_mean')"
   ]
  },
  {
   "cell_type": "code",
   "execution_count": 49,
   "metadata": {},
   "outputs": [],
   "source": [
    "b = pd.DataFrame(data[['discussion', 'dropout']].groupby(['discussion']).mean().sort_values(by='dropout',ascending=False))\n",
    "b['discussion'] = b.index\n",
    "# fig, ax = plt.subplots(nrows=1,ncols=1,figsize=(10,9))\n",
    "# sns.relplot(x='discussion', y='dropout',  data=b,ax=ax, )\n",
    "# plt.close(2)"
   ]
  },
  {
   "cell_type": "code",
   "execution_count": 50,
   "metadata": {},
   "outputs": [],
   "source": [
    "labels.append('discussion')"
   ]
  },
  {
   "cell_type": "code",
   "execution_count": 52,
   "metadata": {},
   "outputs": [],
   "source": [
    "# b = pd.DataFrame(data[['navigate', 'dropout']].groupby(['navigate']).mean().sort_values(by='dropout',ascending=False))\n",
    "# b['discussion'] = b.index\n",
    "# fig, ax = plt.subplots(nrows=1,ncols=1,figsize=(10,9))\n",
    "# sns.relplot(x='discussion', y='dropout',  data=b,ax=ax, )\n",
    "# plt.close(2)"
   ]
  },
  {
   "cell_type": "code",
   "execution_count": 54,
   "metadata": {},
   "outputs": [],
   "source": [
    "# b = pd.DataFrame(data[['page_close', 'dropout']].groupby(['page_close']).mean().sort_values(by='dropout',ascending=False))\n",
    "# b['discussion'] = b.index\n",
    "# fig, ax = plt.subplots(nrows=1,ncols=1,figsize=(10,9))\n",
    "# sns.relplot(x='discussion', y='dropout',  data=b,ax=ax, )\n",
    "# plt.close(2)"
   ]
  },
  {
   "cell_type": "code",
   "execution_count": 55,
   "metadata": {},
   "outputs": [],
   "source": [
    "labels.append('navigate')"
   ]
  },
  {
   "cell_type": "code",
   "execution_count": 56,
   "metadata": {},
   "outputs": [],
   "source": [
    "labels.append('page_close')"
   ]
  },
  {
   "cell_type": "code",
   "execution_count": 57,
   "metadata": {},
   "outputs": [],
   "source": [
    "labels = labels + ['problem', 'video', 'wiki']"
   ]
  },
  {
   "cell_type": "code",
   "execution_count": 64,
   "metadata": {},
   "outputs": [],
   "source": [
    "labels = labels + ['problem_duration', 'video_duration', 'problem_duration_per_course', 'video_duration_per_course']"
   ]
  },
  {
   "cell_type": "code",
   "execution_count": 65,
   "metadata": {},
   "outputs": [
    {
     "data": {
      "text/plain": [
       "['course_id',\n",
       " 'nCourses',\n",
       " 'nEnrollments',\n",
       " 'lifetime_group',\n",
       " 'access_group',\n",
       " 'btw_course_gap_mean',\n",
       " 'discussion',\n",
       " 'navigate',\n",
       " 'page_close',\n",
       " 'problem',\n",
       " 'video',\n",
       " 'wiki',\n",
       " 'problem_duration',\n",
       " 'video_duration',\n",
       " 'problem_duration_per_course',\n",
       " 'video_duration_per_course ',\n",
       " 'problem_duration',\n",
       " 'video_duration',\n",
       " 'problem_duration_per_course',\n",
       " 'video_duration_per_course']"
      ]
     },
     "execution_count": 65,
     "metadata": {},
     "output_type": "execute_result"
    }
   ],
   "source": [
    "labels"
   ]
  },
  {
   "cell_type": "code",
   "execution_count": 69,
   "metadata": {},
   "outputs": [],
   "source": [
    "sets = data[labels].copy()"
   ]
  },
  {
   "cell_type": "code",
   "execution_count": 70,
   "metadata": {},
   "outputs": [],
   "source": [
    "sets['dropout'] = data['dropout'].copy()"
   ]
  }
 ],
 "metadata": {
  "kernelspec": {
   "display_name": "Python 3",
   "language": "python",
   "name": "python3"
  },
  "language_info": {
   "codemirror_mode": {
    "name": "ipython",
    "version": 3
   },
   "file_extension": ".py",
   "mimetype": "text/x-python",
   "name": "python",
   "nbconvert_exporter": "python",
   "pygments_lexer": "ipython3",
   "version": "3.7.3"
  }
 },
 "nbformat": 4,
 "nbformat_minor": 2
}
