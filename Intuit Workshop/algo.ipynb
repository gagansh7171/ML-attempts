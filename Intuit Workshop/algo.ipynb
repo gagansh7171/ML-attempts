{
 "cells": [
  {
   "cell_type": "code",
   "execution_count": 5,
   "metadata": {},
   "outputs": [],
   "source": [
    "import pandas as pd\n",
    "import numpy as np\n",
    "import matplotlib.pyplot as plt\n",
    "import seaborn as sns\n",
    "%matplotlib inline"
   ]
  },
  {
   "cell_type": "code",
   "execution_count": 7,
   "metadata": {},
   "outputs": [],
   "source": [
    "a = pd.read_csv('final_data_train.csv')\n",
    "b = a[:36000]\n",
    "c = a[36000:]\n",
    "b.to_csv('final_data_train_1.csv')\n",
    "c.to_csv('final_data_train_2.csv')"
   ]
  },
  {
   "cell_type": "code",
   "execution_count": 8,
   "metadata": {},
   "outputs": [],
   "source": [
    "train = pd.read_csv(\"final_data_train.csv\")\n",
    "test = pd.read_csv(\"final_data_test.csv\")\n",
    "y = train['dropout']\n",
    "data = pd.concat([ train.drop(['dropout'], axis=1), test.drop(['dropout'], axis=1)], axis=0,ignore_index=True, sort=False) "
   ]
  },
  {
   "cell_type": "code",
   "execution_count": 3,
   "metadata": {
    "collapsed": true
   },
   "outputs": [
    {
     "name": "stdout",
     "output_type": "stream",
     "text": [
      "<class 'pandas.core.frame.DataFrame'>\n",
      "RangeIndex: 72395 entries, 0 to 72394\n",
      "Data columns (total 29 columns):\n",
      "enrollment_id                     72395 non-null int64\n",
      "dropout                           72395 non-null int64\n",
      "username                          72395 non-null object\n",
      "course_id                         72395 non-null object\n",
      "from                              72395 non-null object\n",
      "to                                72395 non-null object\n",
      "nCourses                          72395 non-null int64\n",
      "nEnrollments                      72395 non-null int64\n",
      "avg_delay_chapters                22658 non-null float64\n",
      "avg_delay_chapters_course         72395 non-null float64\n",
      "lifetime                          72395 non-null int64\n",
      "btw_course_gap_min                72395 non-null int64\n",
      "btw_course_gap_max                72395 non-null int64\n",
      "btw_course_gap_mean               72395 non-null float64\n",
      "access                            72395 non-null int64\n",
      "discussion                        72395 non-null int64\n",
      "navigate                          72395 non-null int64\n",
      "page_close                        72395 non-null int64\n",
      "problem                           72395 non-null int64\n",
      "video                             72395 non-null int64\n",
      "wiki                              72395 non-null int64\n",
      "problem_duration                  72395 non-null int64\n",
      "video_duration                    72395 non-null int64\n",
      "discussion_duration               72395 non-null int64\n",
      "md_interarrival_time              72395 non-null float64\n",
      "mean_interarrival_time            72395 non-null float64\n",
      "problem_duration_per_course       72395 non-null float64\n",
      "video_duration_per_course         72395 non-null float64\n",
      "discussion_duration_per_course    72395 non-null float64\n",
      "dtypes: float64(8), int64(17), object(4)\n",
      "memory usage: 16.0+ MB\n"
     ]
    }
   ],
   "source": [
    "train.info()"
   ]
  },
  {
   "cell_type": "code",
   "execution_count": 49,
   "metadata": {
    "collapsed": true
   },
   "outputs": [
    {
     "name": "stdout",
     "output_type": "stream",
     "text": [
      "<class 'pandas.core.frame.DataFrame'>\n",
      "RangeIndex: 96408 entries, 0 to 96407\n",
      "Data columns (total 28 columns):\n",
      "enrollment_id                     96408 non-null int64\n",
      "username                          96408 non-null object\n",
      "course_id                         96408 non-null object\n",
      "from                              96408 non-null object\n",
      "to                                96408 non-null object\n",
      "nCourses                          96408 non-null int64\n",
      "nEnrollments                      96408 non-null int64\n",
      "avg_delay_chapters                30172 non-null float64\n",
      "avg_delay_chapters_course         96408 non-null float64\n",
      "lifetime                          96408 non-null int64\n",
      "btw_course_gap_min                96408 non-null int64\n",
      "btw_course_gap_max                96408 non-null int64\n",
      "btw_course_gap_mean               96408 non-null float64\n",
      "access                            96408 non-null int64\n",
      "discussion                        96408 non-null int64\n",
      "navigate                          96408 non-null int64\n",
      "page_close                        96408 non-null int64\n",
      "problem                           96408 non-null int64\n",
      "video                             96408 non-null int64\n",
      "wiki                              96408 non-null int64\n",
      "problem_duration                  96408 non-null int64\n",
      "video_duration                    96408 non-null int64\n",
      "discussion_duration               96408 non-null int64\n",
      "md_interarrival_time              96408 non-null float64\n",
      "mean_interarrival_time            96408 non-null float64\n",
      "problem_duration_per_course       96408 non-null float64\n",
      "video_duration_per_course         96408 non-null float64\n",
      "discussion_duration_per_course    96408 non-null float64\n",
      "dtypes: float64(8), int64(16), object(4)\n",
      "memory usage: 20.6+ MB\n"
     ]
    }
   ],
   "source": [
    "data.info()"
   ]
  },
  {
   "cell_type": "code",
   "execution_count": 9,
   "metadata": {},
   "outputs": [],
   "source": [
    "labels = [\n",
    " 'nCourses',\n",
    " 'nEnrollments',\n",
    " 'lifetime_group',\n",
    " 'access_group',\n",
    " 'btw_course_gap_mean',\n",
    " 'discussion',\n",
    " 'navigate',\n",
    " 'page_close',\n",
    " 'problem',\n",
    " 'video',\n",
    " 'wiki',\n",
    " 'problem_duration',\n",
    " 'video_duration',\n",
    " 'problem_duration_per_course',\n",
    " 'video_duration_per_course']"
   ]
  },
  {
   "cell_type": "code",
   "execution_count": 10,
   "metadata": {},
   "outputs": [],
   "source": [
    "data['access_group'] = pd.cut(data['access'], [-1,100,200,300,400,500,2200])"
   ]
  },
  {
   "cell_type": "code",
   "execution_count": 11,
   "metadata": {},
   "outputs": [],
   "source": [
    "data['lifetime_group'] = pd.cut(data['lifetime'], [-1, 52, 110, 190,280 ])"
   ]
  },
  {
   "cell_type": "code",
   "execution_count": 12,
   "metadata": {},
   "outputs": [],
   "source": [
    "data['md_interarrival_time'] = data['md_interarrival_time'].astype('int')"
   ]
  },
  {
   "cell_type": "code",
   "execution_count": 13,
   "metadata": {},
   "outputs": [],
   "source": [
    "data['mean_interarrival_time'] = data['mean_interarrival_time'].astype('int')"
   ]
  },
  {
   "cell_type": "code",
   "execution_count": 14,
   "metadata": {},
   "outputs": [],
   "source": [
    "data['problem_duration_per_course'] = data['problem_duration_per_course'].astype('int')"
   ]
  },
  {
   "cell_type": "code",
   "execution_count": 15,
   "metadata": {},
   "outputs": [],
   "source": [
    "data['video_duration_per_course'] = data['video_duration_per_course'].astype('int')"
   ]
  },
  {
   "cell_type": "code",
   "execution_count": 16,
   "metadata": {},
   "outputs": [],
   "source": [
    "data['discussion_duration_per_course'] = data['discussion_duration_per_course'].astype('int')"
   ]
  },
  {
   "cell_type": "code",
   "execution_count": 17,
   "metadata": {},
   "outputs": [],
   "source": [
    "data['btw_course_gap_mean'] = data['btw_course_gap_mean'].astype('int')"
   ]
  },
  {
   "cell_type": "code",
   "execution_count": 19,
   "metadata": {},
   "outputs": [],
   "source": [
    "T = data[labels]\n",
    "D = pd.get_dummies(T)\n",
    "TRAIN = D[:len(train)]\n",
    "TEST = D[len(train):]"
   ]
  },
  {
   "cell_type": "code",
   "execution_count": 20,
   "metadata": {},
   "outputs": [
    {
     "name": "stdout",
     "output_type": "stream",
     "text": [
      "<class 'pandas.core.frame.DataFrame'>\n",
      "RangeIndex: 96408 entries, 0 to 96407\n",
      "Data columns (total 15 columns):\n",
      "nCourses                       96408 non-null int64\n",
      "nEnrollments                   96408 non-null int64\n",
      "lifetime_group                 96408 non-null category\n",
      "access_group                   96407 non-null category\n",
      "btw_course_gap_mean            96408 non-null int64\n",
      "discussion                     96408 non-null int64\n",
      "navigate                       96408 non-null int64\n",
      "page_close                     96408 non-null int64\n",
      "problem                        96408 non-null int64\n",
      "video                          96408 non-null int64\n",
      "wiki                           96408 non-null int64\n",
      "problem_duration               96408 non-null int64\n",
      "video_duration                 96408 non-null int64\n",
      "problem_duration_per_course    96408 non-null int64\n",
      "video_duration_per_course      96408 non-null int64\n",
      "dtypes: category(2), int64(13)\n",
      "memory usage: 9.7 MB\n"
     ]
    }
   ],
   "source": [
    "T.info()"
   ]
  },
  {
   "cell_type": "code",
   "execution_count": 21,
   "metadata": {},
   "outputs": [],
   "source": [
    "from sklearn.model_selection import train_test_split\n",
    "\n",
    "X_train, X_val, y_train, y_val = train_test_split(TRAIN, y, test_size=0.2, random_state=0)"
   ]
  },
  {
   "cell_type": "code",
   "execution_count": 22,
   "metadata": {},
   "outputs": [],
   "source": [
    "from sklearn.model_selection import cross_val_score as CVS"
   ]
  },
  {
   "cell_type": "markdown",
   "metadata": {},
   "source": [
    "Models\n",
    "================================================"
   ]
  },
  {
   "cell_type": "code",
   "execution_count": 34,
   "metadata": {},
   "outputs": [],
   "source": [
    "from sklearn.ensemble import RandomForestClassifier as RFC\n",
    "from sklearn.model_selection import RandomizedSearchCV as RSCV\n",
    "from sklearn.feature_selection import SelectFromModel\n",
    "from sklearn.model_selection import StratifiedKFold\n",
    "from catboost import CatBoostClassifier"
   ]
  },
  {
   "cell_type": "markdown",
   "metadata": {},
   "source": [
    "## Feature Selection"
   ]
  },
  {
   "cell_type": "code",
   "execution_count": 23,
   "metadata": {},
   "outputs": [],
   "source": [
    "cat_features = list(range(0, TRAIN.shape[1]))"
   ]
  },
  {
   "cell_type": "code",
   "execution_count": 24,
   "metadata": {},
   "outputs": [],
   "source": [
    "\n",
    "\n",
    "clf = CatBoostClassifier(\n",
    "    iterations=650,\n",
    "    learning_rate=0.25,\n",
    "    random_seed=0\n",
    "    #loss_function='CrossEntropy'\n",
    ")\n",
    "\n"
   ]
  },
  {
   "cell_type": "code",
   "execution_count": 25,
   "metadata": {},
   "outputs": [
    {
     "data": {
      "text/plain": [
       "<catboost.core.CatBoostClassifier at 0x7f8c9816f470>"
      ]
     },
     "execution_count": 25,
     "metadata": {},
     "output_type": "execute_result"
    }
   ],
   "source": [
    "clf.fit(TRAIN, y, cat_features=cat_features, verbose=False)"
   ]
  },
  {
   "cell_type": "code",
   "execution_count": 33,
   "metadata": {
    "collapsed": true
   },
   "outputs": [
    {
     "data": {
      "text/html": [
       "<div>\n",
       "<style scoped>\n",
       "    .dataframe tbody tr th:only-of-type {\n",
       "        vertical-align: middle;\n",
       "    }\n",
       "\n",
       "    .dataframe tbody tr th {\n",
       "        vertical-align: top;\n",
       "    }\n",
       "\n",
       "    .dataframe thead th {\n",
       "        text-align: right;\n",
       "    }\n",
       "</style>\n",
       "<table border=\"1\" class=\"dataframe\">\n",
       "  <thead>\n",
       "    <tr style=\"text-align: right;\">\n",
       "      <th></th>\n",
       "      <th>score</th>\n",
       "      <th>features</th>\n",
       "    </tr>\n",
       "  </thead>\n",
       "  <tbody>\n",
       "    <tr>\n",
       "      <th>19</th>\n",
       "      <td>0.053437</td>\n",
       "      <td>access_group_(200, 300]</td>\n",
       "    </tr>\n",
       "    <tr>\n",
       "      <th>22</th>\n",
       "      <td>0.067973</td>\n",
       "      <td>access_group_(500, 2200]</td>\n",
       "    </tr>\n",
       "    <tr>\n",
       "      <th>21</th>\n",
       "      <td>0.072169</td>\n",
       "      <td>access_group_(400, 500]</td>\n",
       "    </tr>\n",
       "    <tr>\n",
       "      <th>20</th>\n",
       "      <td>0.143234</td>\n",
       "      <td>access_group_(300, 400]</td>\n",
       "    </tr>\n",
       "    <tr>\n",
       "      <th>18</th>\n",
       "      <td>0.327158</td>\n",
       "      <td>access_group_(100, 200]</td>\n",
       "    </tr>\n",
       "    <tr>\n",
       "      <th>14</th>\n",
       "      <td>0.413107</td>\n",
       "      <td>lifetime_group_(52, 110]</td>\n",
       "    </tr>\n",
       "    <tr>\n",
       "      <th>16</th>\n",
       "      <td>0.438082</td>\n",
       "      <td>lifetime_group_(190, 280]</td>\n",
       "    </tr>\n",
       "    <tr>\n",
       "      <th>13</th>\n",
       "      <td>0.449331</td>\n",
       "      <td>lifetime_group_(-1, 52]</td>\n",
       "    </tr>\n",
       "    <tr>\n",
       "      <th>15</th>\n",
       "      <td>0.622236</td>\n",
       "      <td>lifetime_group_(110, 190]</td>\n",
       "    </tr>\n",
       "    <tr>\n",
       "      <th>17</th>\n",
       "      <td>2.246912</td>\n",
       "      <td>access_group_(-1, 100]</td>\n",
       "    </tr>\n",
       "    <tr>\n",
       "      <th>12</th>\n",
       "      <td>2.959682</td>\n",
       "      <td>video_duration_per_course</td>\n",
       "    </tr>\n",
       "    <tr>\n",
       "      <th>11</th>\n",
       "      <td>4.305447</td>\n",
       "      <td>problem_duration_per_course</td>\n",
       "    </tr>\n",
       "    <tr>\n",
       "      <th>10</th>\n",
       "      <td>4.318778</td>\n",
       "      <td>video_duration</td>\n",
       "    </tr>\n",
       "    <tr>\n",
       "      <th>9</th>\n",
       "      <td>4.347119</td>\n",
       "      <td>problem_duration</td>\n",
       "    </tr>\n",
       "    <tr>\n",
       "      <th>8</th>\n",
       "      <td>5.069541</td>\n",
       "      <td>wiki</td>\n",
       "    </tr>\n",
       "    <tr>\n",
       "      <th>3</th>\n",
       "      <td>5.602201</td>\n",
       "      <td>discussion</td>\n",
       "    </tr>\n",
       "    <tr>\n",
       "      <th>2</th>\n",
       "      <td>5.777103</td>\n",
       "      <td>btw_course_gap_mean</td>\n",
       "    </tr>\n",
       "    <tr>\n",
       "      <th>0</th>\n",
       "      <td>6.399787</td>\n",
       "      <td>nCourses</td>\n",
       "    </tr>\n",
       "    <tr>\n",
       "      <th>7</th>\n",
       "      <td>6.803798</td>\n",
       "      <td>video</td>\n",
       "    </tr>\n",
       "    <tr>\n",
       "      <th>6</th>\n",
       "      <td>11.191955</td>\n",
       "      <td>problem</td>\n",
       "    </tr>\n",
       "    <tr>\n",
       "      <th>5</th>\n",
       "      <td>12.073391</td>\n",
       "      <td>page_close</td>\n",
       "    </tr>\n",
       "    <tr>\n",
       "      <th>1</th>\n",
       "      <td>13.097591</td>\n",
       "      <td>nEnrollments</td>\n",
       "    </tr>\n",
       "    <tr>\n",
       "      <th>4</th>\n",
       "      <td>13.219968</td>\n",
       "      <td>navigate</td>\n",
       "    </tr>\n",
       "  </tbody>\n",
       "</table>\n",
       "</div>"
      ],
      "text/plain": [
       "        score                     features\n",
       "19   0.053437      access_group_(200, 300]\n",
       "22   0.067973     access_group_(500, 2200]\n",
       "21   0.072169      access_group_(400, 500]\n",
       "20   0.143234      access_group_(300, 400]\n",
       "18   0.327158      access_group_(100, 200]\n",
       "14   0.413107     lifetime_group_(52, 110]\n",
       "16   0.438082    lifetime_group_(190, 280]\n",
       "13   0.449331      lifetime_group_(-1, 52]\n",
       "15   0.622236    lifetime_group_(110, 190]\n",
       "17   2.246912       access_group_(-1, 100]\n",
       "12   2.959682    video_duration_per_course\n",
       "11   4.305447  problem_duration_per_course\n",
       "10   4.318778               video_duration\n",
       "9    4.347119             problem_duration\n",
       "8    5.069541                         wiki\n",
       "3    5.602201                   discussion\n",
       "2    5.777103          btw_course_gap_mean\n",
       "0    6.399787                     nCourses\n",
       "7    6.803798                        video\n",
       "6   11.191955                      problem\n",
       "5   12.073391                   page_close\n",
       "1   13.097591                 nEnrollments\n",
       "4   13.219968                     navigate"
      ]
     },
     "execution_count": 33,
     "metadata": {},
     "output_type": "execute_result"
    }
   ],
   "source": [
    "intro = pd.DataFrame({'score' : clf.feature_importances_, 'features' : TRAIN.columns})\n",
    "intro.sort_values(by='score')"
   ]
  },
  {
   "cell_type": "code",
   "execution_count": 35,
   "metadata": {},
   "outputs": [
    {
     "name": "stdout",
     "output_type": "stream",
     "text": [
      "(72395, 9)\n"
     ]
    }
   ],
   "source": [
    "model = SelectFromModel(clf, prefit=True)\n",
    "TRAIN_R = model.transform(TRAIN)\n",
    "print(TRAIN_R.shape)\n",
    "\n",
    "TEST_R = model.transform(TEST)"
   ]
  },
  {
   "cell_type": "markdown",
   "metadata": {},
   "source": [
    "## Trying different models"
   ]
  },
  {
   "cell_type": "code",
   "execution_count": 40,
   "metadata": {},
   "outputs": [],
   "source": [
    "from sklearn.ensemble import GradientBoostingClassifier as GBC\n",
    "from sklearn.neighbors import KNeighborsClassifier as KNN\n",
    "from sklearn.linear_model import LogisticRegression as LR\n",
    "from sklearn import svm\n",
    "from sklearn.ensemble import RandomForestClassifier as RFC"
   ]
  },
  {
   "cell_type": "code",
   "execution_count": 41,
   "metadata": {},
   "outputs": [],
   "source": [
    "gbc = GBC()\n",
    "knn = KNN(n_neighbors=5)\n",
    "lr = LR(solver='lbfgs', max_iter=1500)\n",
    "svc = svm.SVC(gamma=0.1, C=1)\n",
    "rfc = RFC(n_estimators=50,max_features='sqrt',  min_samples_split=6,min_samples_leaf=2, max_depth=20)"
   ]
  },
  {
   "cell_type": "code",
   "execution_count": 43,
   "metadata": {},
   "outputs": [],
   "source": [
    "models = [gbc, knn, lr, svc, rfc, clf]"
   ]
  },
  {
   "cell_type": "code",
   "execution_count": 45,
   "metadata": {
    "scrolled": true
   },
   "outputs": [],
   "source": [
    "run = False\n",
    "if run :\n",
    "    for model in models:\n",
    "\n",
    "        val = CVS(model, TRAIN_R, y, cv = 5, scoring='accuracy')\n",
    "        print('Model : ' + str(model.__class__ )+' Score : '+ str(np.mean(val)))\n",
    "# Model : <class 'sklearn.ensemble._gb.GradientBoostingClassifier'> Score : 0.8554320049727192\n",
    "# Model : <class 'sklearn.neighbors._classification.KNeighborsClassifier'> Score : 0.8406519787278126\n",
    "# Model : <class 'sklearn.linear_model._logistic.LogisticRegression'> Score : 0.848055804958906\n",
    "# Model : <class 'sklearn.svm._classes.SVC'> Score : 0.7884246149595967\n",
    "# Model : <class 'sklearn.ensemble._forest.RandomForestClassifier'> Score : 0.8554872574072796\n",
    "# Model : <class 'catboost.core.CatBoostClassifier'> Score : 0.8524483735064576"
   ]
  },
  {
   "cell_type": "code",
   "execution_count": 46,
   "metadata": {},
   "outputs": [
    {
     "name": "stdout",
     "output_type": "stream",
     "text": [
      "Best score: 0.855970716209683\n",
      "Best parameters: {'n_estimators': 60, 'min_samples_split': 2, 'min_samples_leaf': 10, 'max_features': 'auto', 'max_depth': 50, 'bootstrap': True}\n"
     ]
    }
   ],
   "source": [
    "\n",
    "params = {\n",
    "    'max_depth' : [4, 6, 8, 20, 50],\n",
    "    'n_estimators': [10, 30, 50, 60 ,],\n",
    "    'max_features': ['sqrt', 'auto', 'log2'],\n",
    "    'min_samples_split': [2, 3, 10],\n",
    "    'min_samples_leaf': [1, 3, 10],\n",
    "    'bootstrap': [True, False],\n",
    "    }\n",
    "rfc2 = RFC()\n",
    "cross_validation = StratifiedKFold(n_splits=5)\n",
    "\n",
    "search = RSCV(rfc2, scoring='accuracy', param_distributions = params,cv=cross_validation)\n",
    "\n",
    "search.fit(TRAIN_R, y)\n",
    "\n",
    "print('Best score: {}'.format(search.best_score_))\n",
    "\n",
    "print('Best parameters: {}'.format(search.best_params_))\n",
    "# Best score: 0.855970716209683\n",
    "# Best parameters: {'n_estimators': 60, 'min_samples_split': 2, 'min_samples_leaf': 10, 'max_features': 'auto', 'max_depth': 50, 'bootstrap': True}"
   ]
  },
  {
   "cell_type": "code",
   "execution_count": 52,
   "metadata": {},
   "outputs": [
    {
     "data": {
      "text/plain": [
       "0.8485668899785896"
      ]
     },
     "execution_count": 52,
     "metadata": {},
     "output_type": "execute_result"
    }
   ],
   "source": [
    "search.cv_results_['mean_test_score'].min()"
   ]
  },
  {
   "cell_type": "code",
   "execution_count": 53,
   "metadata": {},
   "outputs": [
    {
     "data": {
      "text/plain": [
       "0.855970716209683"
      ]
     },
     "execution_count": 53,
     "metadata": {},
     "output_type": "execute_result"
    }
   ],
   "source": [
    "search.cv_results_['mean_test_score'].max()"
   ]
  },
  {
   "cell_type": "markdown",
   "metadata": {},
   "source": [
    "There is not much difference between min and max of test score, which suggest model may not be overfitting"
   ]
  },
  {
   "cell_type": "code",
   "execution_count": 54,
   "metadata": {},
   "outputs": [],
   "source": [
    "rfc2 = RFC(n_estimators = 60, min_samples_split = 2, min_samples_leaf =  10, max_features = 'auto', max_depth = 50, bootstrap = True)"
   ]
  },
  {
   "cell_type": "code",
   "execution_count": 55,
   "metadata": {},
   "outputs": [
    {
     "data": {
      "text/plain": [
       "RandomForestClassifier(max_depth=50, min_samples_leaf=10, n_estimators=60)"
      ]
     },
     "execution_count": 55,
     "metadata": {},
     "output_type": "execute_result"
    }
   ],
   "source": [
    "rfc2.fit(TRAIN, y)"
   ]
  },
  {
   "cell_type": "code",
   "execution_count": 56,
   "metadata": {},
   "outputs": [],
   "source": [
    "yp = rfc2.predict(TEST)"
   ]
  },
  {
   "cell_type": "code",
   "execution_count": 57,
   "metadata": {
    "scrolled": true
   },
   "outputs": [
    {
     "data": {
      "text/plain": [
       "0.8587015366676384"
      ]
     },
     "execution_count": 57,
     "metadata": {},
     "output_type": "execute_result"
    }
   ],
   "source": [
    "Accuracy = (yp == test['dropout']).sum()/len(test)\n",
    "# 0.8587015366676384"
   ]
  }
 ],
 "metadata": {
  "kernelspec": {
   "display_name": "Python 3",
   "language": "python",
   "name": "python3"
  },
  "language_info": {
   "codemirror_mode": {
    "name": "ipython",
    "version": 3
   },
   "file_extension": ".py",
   "mimetype": "text/x-python",
   "name": "python",
   "nbconvert_exporter": "python",
   "pygments_lexer": "ipython3",
   "version": "3.7.3"
  }
 },
 "nbformat": 4,
 "nbformat_minor": 2
}
